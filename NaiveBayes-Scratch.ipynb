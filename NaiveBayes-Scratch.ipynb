{
 "cells": [
  {
   "cell_type": "code",
   "execution_count": 8,
   "id": "e99017a0",
   "metadata": {},
   "outputs": [],
   "source": [
    "#21I-0259\n",
    "#AI-K\n"
   ]
  },
  {
   "cell_type": "markdown",
   "id": "f1f59eff",
   "metadata": {},
   "source": [
    "# Importing Lib"
   ]
  },
  {
   "cell_type": "code",
   "execution_count": 11,
   "id": "c9804f27",
   "metadata": {},
   "outputs": [],
   "source": [
    "import pandas as pd \n",
    "from sklearn.metrics import accuracy_score"
   ]
  },
  {
   "cell_type": "markdown",
   "id": "1283716c",
   "metadata": {},
   "source": [
    "# Class"
   ]
  },
  {
   "cell_type": "code",
   "execution_count": 12,
   "id": "e6e3e0ab",
   "metadata": {},
   "outputs": [],
   "source": [
    "class tennis_class:\n",
    "    \n",
    "    def __init__(self,tennis,prob,probNo,probYes):\n",
    "        self.tennis=tennis\n",
    "        self.prob=prob\n",
    "        self.probNo=probNo\n",
    "        self.probyes=probYes\n",
    "        self.labels=[]\n",
    "    \n",
    "         \n",
    "    def Test(self,prob) :      \n",
    "        for rows in self.tennis.iloc[:,1:-1].values: \n",
    "            prob_yes=1\n",
    "            prob_no=1\n",
    "            for value in rows:\n",
    "                prob_yes *= self.prob[f'{value}_Yes']\n",
    "                prob_no *= self.prob[f'{value}_No']\n",
    "            prob_yes=prob_yes*prob['Yes']\n",
    "            prob_no=prob_no*prob['No']\n",
    "            \n",
    "            self.probNo.append(prob_no)\n",
    "            self.probyes.append(prob_yes)\n",
    "        #print(self.probNo)\n",
    "        \n",
    "    def find_labels(self):\n",
    "        l=[]\n",
    "        for i in range(len(self.probNo)):\n",
    "            if self.probNo[i]>self.probyes[i]:\n",
    "                l.append('No')\n",
    "            else:\n",
    "                l.append('Yes')\n",
    "                \n",
    "        #Converting str to labels 0 1\n",
    "        self.labels=[1 if i == \"Yes\" else 0 for i in l]\n",
    "        #print(self.labels)\n",
    "        \n",
    "    def display_acc(self):\n",
    "        y=list(self.tennis['play'])\n",
    "        \n",
    "        #Converting str to labels 0 1\n",
    "        y_new=[1 if i == \"Yes\" else 0 for i in y]\n",
    "        #print(y_new)\n",
    "        accuracy=accuracy_score(y_new,self.labels)\n",
    "        print(accuracy)\n",
    "        \n",
    "    def find_prob(self):\n",
    "        play_yes_all = len(self.tennis[self.tennis['play'] == 'Yes'])\n",
    "        play_no_all = len(self.tennis[self.tennis['play'] == 'No'])\n",
    "        self.prob['Yes'] = play_yes_all/len(self.tennis)\n",
    "        self.prob['No'] = play_no_all/len(self.tennis)\n",
    "        \n",
    "        for c in self.tennis.iloc[:,1:-1]:\n",
    "            for value in self.tennis[c].unique():\n",
    "                #print(column,value)\n",
    "                value_yes_count=len(self.tennis.loc[(self.tennis[c] == value) & (self.tennis['play'] == 'Yes')])\n",
    "                value_no_count=len(self.tennis.loc[(self.tennis[c] == value) & (self.tennis['play'] == 'No')])\n",
    "\n",
    "                prob_play_yes=value_yes_count/play_yes_all\n",
    "                prob_play_no=value_no_count/play_no_all\n",
    "\n",
    "                #print(prob_play_yes)\n",
    "                self.prob[f'{value}_Yes'] = prob_play_yes\n",
    "                self.prob[f'{value}_No'] = prob_play_no\n",
    "             \n",
    "        # CALLS\n",
    "        self.Test(prob)\n",
    "        #return self.probNo,self.probyes\n",
    "        self.find_labels()\n",
    "        self.display_acc()\n",
    "        \n",
    "    \n",
    "        \n",
    "   \n",
    "    \n",
    "    \n",
    "    "
   ]
  },
  {
   "cell_type": "markdown",
   "id": "eec36e2b",
   "metadata": {},
   "source": [
    "# Calling "
   ]
  },
  {
   "cell_type": "code",
   "execution_count": 13,
   "id": "d46317f6",
   "metadata": {},
   "outputs": [
    {
     "name": "stdout",
     "output_type": "stream",
     "text": [
      "0.9285714285714286\n"
     ]
    }
   ],
   "source": [
    "tennis=pd.read_csv(\"play_tennis.csv\")\n",
    "\n",
    "prob={}\n",
    "probNo=[]\n",
    "probYes=[]\n",
    "\n",
    "tennis_obj=tennis_class(tennis,prob,probNo,probYes)\n",
    "tennis_obj.find_prob()\n",
    "\n"
   ]
  },
  {
   "cell_type": "code",
   "execution_count": null,
   "id": "2889555f",
   "metadata": {},
   "outputs": [],
   "source": []
  }
 ],
 "metadata": {
  "kernelspec": {
   "display_name": "Python 3 (ipykernel)",
   "language": "python",
   "name": "python3"
  },
  "language_info": {
   "codemirror_mode": {
    "name": "ipython",
    "version": 3
   },
   "file_extension": ".py",
   "mimetype": "text/x-python",
   "name": "python",
   "nbconvert_exporter": "python",
   "pygments_lexer": "ipython3",
   "version": "3.9.12"
  }
 },
 "nbformat": 4,
 "nbformat_minor": 5
}
