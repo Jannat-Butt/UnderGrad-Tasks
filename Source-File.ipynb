{
 "cells": [
  {
   "cell_type": "code",
   "execution_count": 1,
   "id": "0b7c6e97",
   "metadata": {},
   "outputs": [],
   "source": [
    "#Jannat Butt\n",
    "#21I-0259\n",
    "#AI-K"
   ]
  },
  {
   "cell_type": "markdown",
   "id": "f05e9830",
   "metadata": {},
   "source": [
    "# Importing libraries"
   ]
  },
  {
   "cell_type": "code",
   "execution_count": 2,
   "id": "5baefc31",
   "metadata": {},
   "outputs": [],
   "source": [
    "import numpy as np\n",
    "import matplotlib.pyplot as plt\n",
    "import cv2\n",
    "import pandas as pd"
   ]
  },
  {
   "cell_type": "markdown",
   "id": "1622fb0d",
   "metadata": {},
   "source": [
    "# Adaptive Thresholding"
   ]
  },
  {
   "cell_type": "code",
   "execution_count": 3,
   "id": "eb232179",
   "metadata": {},
   "outputs": [],
   "source": [
    "def adaptive_thresholding(gray_scale_image):\n",
    "    gridSize = 11\n",
    "    offset = 2\n",
    "    \n",
    "    binaryimage = np.zeros_like(gray_scale_image, dtype=np.uint8)\n",
    "\n",
    "    #dividing image into grids\n",
    "    #a mean based approach the threshold is calculated as the mean (average) pixel value for the grid\n",
    "    \n",
    "    for y in range(gridSize// 2, gray_scale_image.shape[0] - gridSize // 2):\n",
    "        for x in range(gridSize // 2, gray_scale_image.shape[1] - gridSize // 2):\n",
    "            \n",
    "            start_r=y - gridSize // 2\n",
    "            end_r=y + gridSize // 2 + 1\n",
    "            start_c=x - gridSize // 2\n",
    "            end_c=x + gridSize // 2 + 1\n",
    "            \n",
    "            grid = gray_scale_image[start_r:end_r,start_c:end_c ]\n",
    "            gridMean = np.mean(grid)\n",
    "            \n",
    "            #all of the pixels in a grid are given the thresholded \n",
    "            #value once the local threshold for each grid has been determined.\n",
    "            \n",
    "            thresh = gridMean - offset\n",
    "            \n",
    "            #if the pixel intensity is less than the thresh it is given 255 value\n",
    "            #255 means hand gesture\n",
    "            #if the pixel intensity is greater than the thresh than 0 is given\n",
    "            #0 means background\n",
    "            binaryimage[y, x] = 255 if gray_scale_image[y, x] < thresh else 0\n",
    "\n",
    "    cv2.imshow('Binary Thresh Image', binaryimage)\n",
    "    cv2.waitKey(0)\n",
    "    cv2.destroyAllWindows()\n",
    "    \n",
    "    return binaryimage\n"
   ]
  },
  {
   "cell_type": "markdown",
   "id": "5e575334",
   "metadata": {},
   "source": [
    "# Load image, Grayscale,resize,binaryThresh"
   ]
  },
  {
   "cell_type": "code",
   "execution_count": 4,
   "id": "5b1e45b2",
   "metadata": {},
   "outputs": [],
   "source": [
    "def loading_image(path,size):\n",
    "    \n",
    "    rgb_image = cv2.imread(path)\n",
    "\n",
    "    if rgb_image is None:\n",
    "        print(\"Error Unable to load image.\")\n",
    "    else:\n",
    "        resized_rgb_image=cv2.resize(rgb_image,size)\n",
    "        \n",
    "#         resized_rgb_image = np.zeros((size[0], size[1], 3), dtype=np.uint8)\n",
    "        \n",
    "#         resize_width = size[1]/rgb_image.shape[1]\n",
    "#         resize_height = size[0]/rgb_image.shape[0]\n",
    "        \n",
    "#         for y in range(size[0]):\n",
    "#             for x in range(size[1]):\n",
    "#                 src_x =int(x/resize_width)\n",
    "#                 src_y =int(y/resize_height)\n",
    "#                 resized_rgb_image[y,x]=rgb_image[src_y, src_x]\n",
    "                \n",
    "        cv2.imshow('Loaded Image', resized_rgb_image)\n",
    "        cv2.waitKey(0)\n",
    "        cv2.destroyAllWindows()\n",
    "        \n",
    "        grayscale_image =( 0.299 *resized_rgb_image[:,:,0] + 0.587 *resized_rgb_image[:,:,1] + 0.114 *resized_rgb_image[:,:,2]).astype(np.uint8)\n",
    "       \n",
    "        cv2.imshow('Grayscale Image', grayscale_image)\n",
    "        cv2.waitKey(0)\n",
    "        cv2.destroyAllWindows()\n",
    "\n",
    "        return grayscale_image\n",
    "\n",
    "path = \"ok.jpeg\"\n",
    "size=(224,224)\n",
    "gray_scale_image = loading_image(path,size)\n",
    "binaryimage=adaptive_thresholding(gray_scale_image)"
   ]
  },
  {
   "cell_type": "markdown",
   "id": "f3ff52a0",
   "metadata": {},
   "source": [
    "\n",
    "# Dark points"
   ]
  },
  {
   "cell_type": "code",
   "execution_count": 5,
   "id": "ba728a43",
   "metadata": {},
   "outputs": [
    {
     "data": {
      "image/png": "[encoded data removed]",
      "text/plain": [
       "<Figure size 432x288 with 1 Axes>"
      ]
     },
     "metadata": {
      "needs_background": "light"
     },
     "output_type": "display_data"
    }
   ],
   "source": [
    "darkest_data_points = np.where(binaryimage == 255, binaryimage, np.nan)\n",
    "plt.imshow(darkest_data_points, cmap='gray')\n",
    "plt.axis('off')\n",
    "plt.show()"
   ]
  },
  {
   "cell_type": "markdown",
   "id": "d8476b30",
   "metadata": {},
   "source": [
    "# Cropping Hand prev (224,224) , (214,214)"
   ]
  },
  {
   "cell_type": "code",
   "execution_count": 6,
   "id": "d31504b3",
   "metadata": {},
   "outputs": [
    {
     "data": {
      "image/png": "[encoded data removed]",
      "text/plain": [
       "<Figure size 432x288 with 2 Axes>"
      ]
     },
     "metadata": {
      "needs_background": "light"
     },
     "output_type": "display_data"
    }
   ],
   "source": [
    "\n",
    "\n",
    "hand_cropped = darkest_data_points\n",
    "\n",
    "row_indices, col_indices = np.where(hand_cropped  == 255)\n",
    "\n",
    "min_row=np.min(row_indices)\n",
    "min_col =np.min(col_indices)\n",
    "max_row=np.max(row_indices)\n",
    "max_col= np.max(col_indices)\n",
    "\n",
    "hand_cropped =hand_cropped[min_row:max_row + 1, min_col:max_col + 1]\n",
    "\n",
    "\n",
    "plt.imshow(hand_cropped, cmap='gray')\n",
    "plt.title('Cropped Hand Region')\n",
    "plt.colorbar()\n",
    "plt.show()\n",
    "\n"
   ]
  },
  {
   "cell_type": "code",
   "execution_count": 7,
   "id": "7cd285bb",
   "metadata": {},
   "outputs": [
    {
     "data": {
      "text/plain": [
       "(214, 214)"
      ]
     },
     "execution_count": 7,
     "metadata": {},
     "output_type": "execute_result"
    }
   ],
   "source": [
    "hand_cropped .shape"
   ]
  },
  {
   "cell_type": "markdown",
   "id": "bdc20853",
   "metadata": {},
   "source": [
    "# Finding 100 datapoints"
   ]
  },
  {
   "cell_type": "code",
   "execution_count": 8,
   "id": "2e643d52",
   "metadata": {},
   "outputs": [
    {
     "name": "stdout",
     "output_type": "stream",
     "text": [
      "Best Row Index: 155\n",
      "Row Score: 61\n",
      "Best Column Index: 150\n",
      "Column Score: 104\n"
     ]
    },
    {
     "data": {
      "image/png": "[encoded data removed]",
      "text/plain": [
       "<Figure size 432x288 with 2 Axes>"
      ]
     },
     "metadata": {
      "needs_background": "light"
     },
     "output_type": "display_data"
    }
   ],
   "source": [
    "def count_255(row_or_col):\n",
    "    return np.sum(row_or_col == 255)\n",
    "\n",
    "count_inR=[]\n",
    "count_inC=[]\n",
    "for row in hand_cropped:\n",
    "    count_inR.append(count_255(row))\n",
    "    \n",
    "for col in hand_cropped.T:\n",
    "    count_inC.append(count_255(col))\n",
    "    \n",
    "best_R_ind = np.argmax(count_inR)\n",
    "best_C_ind = np.argmax(count_inC)\n",
    "\n",
    "\n",
    "best_R = hand_cropped[best_R_ind, :100]\n",
    "best_C =hand_cropped[:100, best_C_ind]\n",
    "\n",
    "print(\"Best Row Index:\", best_R_ind)\n",
    "print(\"Row Score:\", count_inR[best_R_ind])\n",
    "print(\"Best Column Index:\", best_C_ind)\n",
    "print(\"Column Score:\", count_inC[best_C_ind])\n",
    "\n",
    "if max(count_inR) >= max(count_inC):\n",
    "    temp_data = best_R\n",
    "    title = 'Best Row'\n",
    "else:\n",
    "    temp_data  = best_C\n",
    "    title = 'Best Column'\n",
    "\n",
    "plt.imshow(temp_data.reshape(1, -1), cmap='gray')\n",
    "plt.title(title)\n",
    "plt.colorbar()\n",
    "plt.show()\n"
   ]
  },
  {
   "cell_type": "code",
   "execution_count": 9,
   "id": "08ddee81",
   "metadata": {},
   "outputs": [
    {
     "data": {
      "text/plain": [
       "array([255., 255.,  nan,  nan,  nan,  nan,  nan,  nan,  nan,  nan,  nan,\n",
       "        nan,  nan,  nan,  nan,  nan,  nan,  nan,  nan,  nan,  nan,  nan,\n",
       "        nan,  nan,  nan,  nan,  nan,  nan,  nan,  nan,  nan,  nan,  nan,\n",
       "        nan,  nan,  nan,  nan,  nan,  nan,  nan,  nan,  nan, 255., 255.,\n",
       "       255., 255., 255., 255., 255., 255., 255., 255., 255., 255., 255.,\n",
       "       255., 255., 255., 255., 255., 255., 255., 255., 255., 255., 255.,\n",
       "       255., 255., 255., 255., 255., 255., 255., 255., 255., 255., 255.,\n",
       "       255., 255., 255., 255., 255., 255., 255., 255.,  nan, 255., 255.,\n",
       "       255., 255., 255., 255., 255., 255., 255., 255., 255., 255., 255.,\n",
       "       255.])"
      ]
     },
     "execution_count": 9,
     "metadata": {},
     "output_type": "execute_result"
    }
   ],
   "source": [
    "temp_data "
   ]
  },
  {
   "cell_type": "markdown",
   "id": "728892a4",
   "metadata": {},
   "source": [
    "# Converting usefull points to df"
   ]
  },
  {
   "cell_type": "code",
   "execution_count": 10,
   "id": "213319c0",
   "metadata": {},
   "outputs": [],
   "source": [
    "usefull_datapoints=pd.DataFrame(temp_data)"
   ]
  },
  {
   "cell_type": "code",
   "execution_count": 11,
   "id": "683c67db",
   "metadata": {},
   "outputs": [
    {
     "data": {
      "text/html": [
       "<div>\n",
       "<style scoped>\n",
       "    .dataframe tbody tr th:only-of-type {\n",
       "        vertical-align: middle;\n",
       "    }\n",
       "\n",
       "    .dataframe tbody tr th {\n",
       "        vertical-align: top;\n",
       "    }\n",
       "\n",
       "    .dataframe thead th {\n",
       "        text-align: right;\n",
       "    }\n",
       "</style>\n",
       "<table border=\"1\" class=\"dataframe\">\n",
       "  <thead>\n",
       "    <tr style=\"text-align: right;\">\n",
       "      <th></th>\n",
       "      <th>0</th>\n",
       "    </tr>\n",
       "  </thead>\n",
       "  <tbody>\n",
       "    <tr>\n",
       "      <th>0</th>\n",
       "      <td>255.0</td>\n",
       "    </tr>\n",
       "    <tr>\n",
       "      <th>1</th>\n",
       "      <td>255.0</td>\n",
       "    </tr>\n",
       "    <tr>\n",
       "      <th>2</th>\n",
       "      <td>NaN</td>\n",
       "    </tr>\n",
       "    <tr>\n",
       "      <th>3</th>\n",
       "      <td>NaN</td>\n",
       "    </tr>\n",
       "    <tr>\n",
       "      <th>4</th>\n",
       "      <td>NaN</td>\n",
       "    </tr>\n",
       "    <tr>\n",
       "      <th>...</th>\n",
       "      <td>...</td>\n",
       "    </tr>\n",
       "    <tr>\n",
       "      <th>95</th>\n",
       "      <td>255.0</td>\n",
       "    </tr>\n",
       "    <tr>\n",
       "      <th>96</th>\n",
       "      <td>255.0</td>\n",
       "    </tr>\n",
       "    <tr>\n",
       "      <th>97</th>\n",
       "      <td>255.0</td>\n",
       "    </tr>\n",
       "    <tr>\n",
       "      <th>98</th>\n",
       "      <td>255.0</td>\n",
       "    </tr>\n",
       "    <tr>\n",
       "      <th>99</th>\n",
       "      <td>255.0</td>\n",
       "    </tr>\n",
       "  </tbody>\n",
       "</table>\n",
       "<p>100 rows × 1 columns</p>\n",
       "</div>"
      ],
      "text/plain": [
       "        0\n",
       "0   255.0\n",
       "1   255.0\n",
       "2     NaN\n",
       "3     NaN\n",
       "4     NaN\n",
       "..    ...\n",
       "95  255.0\n",
       "96  255.0\n",
       "97  255.0\n",
       "98  255.0\n",
       "99  255.0\n",
       "\n",
       "[100 rows x 1 columns]"
      ]
     },
     "execution_count": 11,
     "metadata": {},
     "output_type": "execute_result"
    }
   ],
   "source": [
    "usefull_datapoints"
   ]
  },
  {
   "cell_type": "code",
   "execution_count": null,
   "id": "33c55b9c",
   "metadata": {},
   "outputs": [],
   "source": []
  }
 ],
 "metadata": {
  "kernelspec": {
   "display_name": "Python 3 (ipykernel)",
   "language": "python",
   "name": "python3"
  },
  "language_info": {
   "codemirror_mode": {
    "name": "ipython",
    "version": 3
   },
   "file_extension": ".py",
   "mimetype": "text/x-python",
   "name": "python",
   "nbconvert_exporter": "python",
   "pygments_lexer": "ipython3",
   "version": "3.9.12"
  }
 },
 "nbformat": 4,
 "nbformat_minor": 5
}
